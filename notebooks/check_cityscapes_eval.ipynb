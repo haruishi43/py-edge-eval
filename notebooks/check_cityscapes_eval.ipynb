{
 "cells": [
  {
   "cell_type": "code",
   "execution_count": 1,
   "id": "bf84ac96-4201-4f45-8268-297c4053da95",
   "metadata": {},
   "outputs": [
    {
     "name": "stdout",
     "output_type": "stream",
     "text": [
      "/home/ubuntu/dev/edge/py-edge-eval\n"
     ]
    }
   ],
   "source": [
    "%cd .."
   ]
  },
  {
   "cell_type": "markdown",
   "id": "ad41af7c-c285-428b-9b7e-0063534950a9",
   "metadata": {},
   "source": [
    "check to see if evaluations are working as intended"
   ]
  },
  {
   "cell_type": "code",
   "execution_count": 2,
   "id": "0ead5032-aa96-4e80-aa84-58a254fc1659",
   "metadata": {},
   "outputs": [],
   "source": [
    "import os\n",
    "\n",
    "# imports\n",
    "import numpy as np\n",
    "from PIL import Image\n",
    "\n",
    "import matplotlib.pyplot as plt"
   ]
  },
  {
   "cell_type": "code",
   "execution_count": 3,
   "id": "31b6af3f-d273-4c39-a95f-17d35d4fc153",
   "metadata": {},
   "outputs": [],
   "source": [
    "%matplotlib inline\n",
    "# %matplotlib widget"
   ]
  },
  {
   "cell_type": "code",
   "execution_count": null,
   "id": "56d35660-e4e9-4c85-abba-7bc7662c406a",
   "metadata": {},
   "outputs": [],
   "source": [
    "max_dist = 0.02\n",
    "kill_internal = True\n",
    "instance_sensitive = False"
   ]
  }
 ],
 "metadata": {
  "kernelspec": {
   "display_name": "Python 3 (ipykernel)",
   "language": "python",
   "name": "python3"
  },
  "language_info": {
   "codemirror_mode": {
    "name": "ipython",
    "version": 3
   },
   "file_extension": ".py",
   "mimetype": "text/x-python",
   "name": "python",
   "nbconvert_exporter": "python",
   "pygments_lexer": "ipython3",
   "version": "3.8.8"
  }
 },
 "nbformat": 4,
 "nbformat_minor": 5
}
