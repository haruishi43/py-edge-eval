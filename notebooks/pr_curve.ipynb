{
 "cells": [
  {
   "cell_type": "code",
   "execution_count": 1,
   "id": "db881f70-3bb0-41ff-ae01-03083d4e0371",
   "metadata": {},
   "outputs": [
    {
     "name": "stdout",
     "output_type": "stream",
     "text": [
      "/home/ubuntu/dev/edge/py-edge-eval\n"
     ]
    }
   ],
   "source": [
    "%cd .."
   ]
  },
  {
   "cell_type": "markdown",
   "id": "62c81f95-220d-4b86-aa95-e06feed5c588",
   "metadata": {},
   "source": [
    "# Plot PR Curves"
   ]
  },
  {
   "cell_type": "code",
   "execution_count": 2,
   "id": "ee4aaa1c-c1e0-4be3-b99f-e2a621be06bd",
   "metadata": {},
   "outputs": [],
   "source": [
    "import os.path as osp"
   ]
  },
  {
   "cell_type": "code",
   "execution_count": 3,
   "id": "e873a1c0-ef7b-4550-b60e-dbe6578aeb99",
   "metadata": {},
   "outputs": [],
   "source": [
    "import matplotlib.pyplot as plt\n",
    "import numpy as np\n",
    "from scipy.interpolate import interp1d"
   ]
  },
  {
   "cell_type": "code",
   "execution_count": 4,
   "id": "40d6b50c-db97-4a1c-849e-fb59770faf5c",
   "metadata": {},
   "outputs": [],
   "source": [
    "%matplotlib inline\n",
    "# %matplotlib widget"
   ]
  },
  {
   "cell_type": "code",
   "execution_count": 5,
   "id": "ad19369b-e19c-44f9-bc98-89b54fd4cf89",
   "metadata": {},
   "outputs": [],
   "source": [
    "thrsh_path= osp.join('data', 'BSDS500_bench', 'test_2', 'eval_bdry_thr.txt')\n",
    "overall_path = osp.join('data', 'BSDS500_bench', 'test_2', 'eval_bdry.txt')\n",
    "\n",
    "thrsh_path = osp.join('scripts', 'results', 'orig', 'eval_bdry_thr.txt')\n",
    "overall_path = osp.join('scripts', 'results', 'orig', 'eval_bdry.txt')\n",
    "\n",
    "assert osp.exists(thrsh_path)\n",
    "assert osp.exists(overall_path)"
   ]
  },
  {
   "cell_type": "code",
   "execution_count": 6,
   "id": "c311044e-9448-433e-8583-8e3b8a72f8d6",
   "metadata": {},
   "outputs": [],
   "source": [
    "thrsh_data = np.loadtxt(thrsh_path)\n",
    "overall_data = np.loadtxt(overall_path)"
   ]
  },
  {
   "cell_type": "code",
   "execution_count": 7,
   "id": "c3c3cc5b-c303-4952-929f-758479d07856",
   "metadata": {},
   "outputs": [
    {
     "data": {
      "text/plain": [
       "array([[0.01    , 0.51216 , 0.484141, 0.497756],\n",
       "       [0.02    , 0.559929, 0.516933, 0.537573],\n",
       "       [0.03    , 0.579941, 0.53296 , 0.555459],\n",
       "       [0.04    , 0.604072, 0.553486, 0.577674],\n",
       "       [0.05    , 0.615389, 0.564103, 0.588631],\n",
       "       [0.06    , 0.630645, 0.578527, 0.603463],\n",
       "       [0.07    , 0.639813, 0.586925, 0.612229],\n",
       "       [0.08    , 0.650056, 0.597279, 0.622551],\n",
       "       [0.09    , 0.655758, 0.60373 , 0.62867 ],\n",
       "       [0.1     , 0.665122, 0.614369, 0.638739],\n",
       "       [0.11    , 0.671757, 0.622967, 0.646443],\n",
       "       [0.12    , 0.675709, 0.628871, 0.651449],\n",
       "       [0.13    , 0.68154 , 0.636369, 0.658181],\n",
       "       [0.14    , 0.685989, 0.641618, 0.663062],\n",
       "       [0.15    , 0.690585, 0.64875 , 0.669014],\n",
       "       [0.16    , 0.693531, 0.654081, 0.673229],\n",
       "       [0.17    , 0.698439, 0.661062, 0.679237],\n",
       "       [0.18    , 0.701309, 0.665494, 0.682932],\n",
       "       [0.19    , 0.704752, 0.671719, 0.687839],\n",
       "       [0.2     , 0.706571, 0.675078, 0.690466],\n",
       "       [0.21    , 0.709265, 0.680768, 0.694725],\n",
       "       [0.22    , 0.711943, 0.686959, 0.699228],\n",
       "       [0.23    , 0.71402 , 0.690842, 0.70224 ],\n",
       "       [0.24    , 0.716272, 0.696382, 0.706187],\n",
       "       [0.25    , 0.71808 , 0.70019 , 0.709022],\n",
       "       [0.26    , 0.719772, 0.705638, 0.712635],\n",
       "       [0.27    , 0.720544, 0.708794, 0.714621],\n",
       "       [0.28    , 0.721361, 0.713784, 0.717553],\n",
       "       [0.29    , 0.721802, 0.716623, 0.719203],\n",
       "       [0.3     , 0.722661, 0.721755, 0.722207],\n",
       "       [0.31    , 0.723829, 0.727585, 0.725702],\n",
       "       [0.32    , 0.724009, 0.73069 , 0.727334],\n",
       "       [0.33    , 0.724795, 0.735798, 0.730255],\n",
       "       [0.34    , 0.724912, 0.739215, 0.731994],\n",
       "       [0.35    , 0.7246  , 0.743904, 0.734125],\n",
       "       [0.36    , 0.724772, 0.746571, 0.73551 ],\n",
       "       [0.37    , 0.724239, 0.751401, 0.73757 ],\n",
       "       [0.38    , 0.723596, 0.754641, 0.738792],\n",
       "       [0.39    , 0.723183, 0.759251, 0.740778],\n",
       "       [0.4     , 0.722789, 0.762443, 0.742086],\n",
       "       [0.41    , 0.722076, 0.767664, 0.744172],\n",
       "       [0.42    , 0.721317, 0.772274, 0.745926],\n",
       "       [0.43    , 0.72045 , 0.775035, 0.746746],\n",
       "       [0.44    , 0.719498, 0.779425, 0.748264],\n",
       "       [0.45    , 0.718569, 0.782638, 0.749236],\n",
       "       [0.46    , 0.71703 , 0.787509, 0.750619],\n",
       "       [0.47    , 0.715499, 0.790572, 0.751164],\n",
       "       [0.48    , 0.71343 , 0.795215, 0.752106],\n",
       "       [0.49    , 0.712168, 0.798245, 0.752754],\n",
       "       [0.5     , 0.710142, 0.803111, 0.75377 ],\n",
       "       [0.51    , 0.707591, 0.807614, 0.754301],\n",
       "       [0.52    , 0.70566 , 0.81078 , 0.754576],\n",
       "       [0.53    , 0.702912, 0.815314, 0.754952],\n",
       "       [0.54    , 0.700899, 0.818928, 0.755331],\n",
       "       [0.55    , 0.697447, 0.823979, 0.755451],\n",
       "       [0.56    , 0.694877, 0.826963, 0.755188],\n",
       "       [0.57    , 0.690975, 0.832037, 0.754973],\n",
       "       [0.58    , 0.688547, 0.835212, 0.754821],\n",
       "       [0.59    , 0.683769, 0.840345, 0.754014],\n",
       "       [0.6     , 0.680556, 0.843442, 0.753294],\n",
       "       [0.61    , 0.675727, 0.848008, 0.752128],\n",
       "       [0.62    , 0.670711, 0.85262 , 0.750805],\n",
       "       [0.63    , 0.666746, 0.856195, 0.749687],\n",
       "       [0.64    , 0.661118, 0.861209, 0.748014],\n",
       "       [0.65    , 0.656658, 0.864513, 0.746384],\n",
       "       [0.66    , 0.649868, 0.869595, 0.743845],\n",
       "       [0.67    , 0.644739, 0.872767, 0.741621],\n",
       "       [0.68    , 0.636929, 0.877625, 0.738151],\n",
       "       [0.69    , 0.631504, 0.8807  , 0.735569],\n",
       "       [0.7     , 0.622608, 0.886189, 0.731376],\n",
       "       [0.71    , 0.613149, 0.891272, 0.726502],\n",
       "       [0.72    , 0.606252, 0.894203, 0.722598],\n",
       "       [0.73    , 0.595334, 0.899051, 0.716329],\n",
       "       [0.74    , 0.587816, 0.902611, 0.711969],\n",
       "       [0.75    , 0.575277, 0.907419, 0.704146],\n",
       "       [0.76    , 0.566473, 0.910771, 0.698499],\n",
       "       [0.77    , 0.551641, 0.915578, 0.688473],\n",
       "       [0.78    , 0.541008, 0.918806, 0.68102 ],\n",
       "       [0.79    , 0.523891, 0.92386 , 0.668626],\n",
       "       [0.8     , 0.511918, 0.927457, 0.659705],\n",
       "       [0.81    , 0.491559, 0.932258, 0.643706],\n",
       "       [0.82    , 0.469319, 0.937132, 0.625424],\n",
       "       [0.83    , 0.453362, 0.940562, 0.61182 ],\n",
       "       [0.84    , 0.427543, 0.945111, 0.588751],\n",
       "       [0.85    , 0.408921, 0.948327, 0.571437],\n",
       "       [0.86    , 0.379327, 0.952775, 0.542621],\n",
       "       [0.87    , 0.358351, 0.955817, 0.52127 ],\n",
       "       [0.88    , 0.324074, 0.960514, 0.484634],\n",
       "       [0.89    , 0.29972 , 0.964109, 0.457281],\n",
       "       [0.9     , 0.26176 , 0.969311, 0.412205],\n",
       "       [0.91    , 0.220972, 0.97356 , 0.36019 ],\n",
       "       [0.92    , 0.193802, 0.976574, 0.323421],\n",
       "       [0.93    , 0.152529, 0.981756, 0.264036],\n",
       "       [0.94    , 0.125519, 0.985035, 0.222665],\n",
       "       [0.95    , 0.08594 , 0.99029 , 0.158155],\n",
       "       [0.96    , 0.062114, 0.992696, 0.116913],\n",
       "       [0.97    , 0.030696, 0.994729, 0.059555],\n",
       "       [0.98    , 0.014177, 0.996379, 0.027956],\n",
       "       [0.99    , 0.001189, 1.      , 0.002376]])"
      ]
     },
     "execution_count": 7,
     "metadata": {},
     "output_type": "execute_result"
    }
   ],
   "source": [
    "thrsh_data "
   ]
  },
  {
   "cell_type": "code",
   "execution_count": 8,
   "id": "638bdd6b-87d5-4f45-8703-5c222362b82d",
   "metadata": {},
   "outputs": [
    {
     "data": {
      "text/plain": [
       "array([ True,  True,  True,  True,  True,  True,  True,  True,  True,\n",
       "        True,  True,  True,  True,  True,  True,  True,  True,  True,\n",
       "        True,  True,  True,  True,  True,  True,  True,  True,  True,\n",
       "        True,  True,  True,  True,  True,  True,  True,  True,  True,\n",
       "        True,  True,  True,  True,  True,  True,  True,  True,  True,\n",
       "        True,  True,  True,  True,  True,  True,  True,  True,  True,\n",
       "        True,  True,  True,  True,  True,  True,  True,  True,  True,\n",
       "        True,  True,  True,  True,  True,  True,  True,  True,  True,\n",
       "        True,  True,  True,  True,  True,  True,  True,  True,  True,\n",
       "        True,  True,  True,  True,  True,  True,  True,  True,  True,\n",
       "        True,  True,  True,  True,  True,  True,  True,  True,  True])"
      ]
     },
     "execution_count": 8,
     "metadata": {},
     "output_type": "execute_result"
    }
   ],
   "source": [
    "thrsh_data[:, 1] >= 1e-3"
   ]
  },
  {
   "cell_type": "code",
   "execution_count": 9,
   "id": "044ffe01-1eaf-466d-8421-68c07f2a3f00",
   "metadata": {},
   "outputs": [
    {
     "data": {
      "text/plain": [
       "array([0.55    , 0.697447, 0.823979, 0.755451, 0.716879, 0.840207,\n",
       "       0.773659, 0.65523 ])"
      ]
     },
     "execution_count": 9,
     "metadata": {},
     "output_type": "execute_result"
    }
   ],
   "source": [
    "overall_data"
   ]
  },
  {
   "cell_type": "code",
   "execution_count": 10,
   "id": "3db2c756-d871-4ede-a5a7-d391a9ffa287",
   "metadata": {},
   "outputs": [
    {
     "name": "stdout",
     "output_type": "stream",
     "text": [
      "ODS=0.755, OIS=0.774, AP=0.655, R50=0.535\n"
     ]
    },
    {
     "data": {
      "image/png": "[encoded data removed]",
      "text/plain": [
       "<Figure size 432x288 with 1 Axes>"
      ]
     },
     "metadata": {
      "needs_background": "light"
     },
     "output_type": "display_data"
    }
   ],
   "source": [
    "cols = list(\"rgbkmr\" * 100)\n",
    "cols = np.array(cols)\n",
    "\n",
    "plt.figure()\n",
    "ax = plt.gca()\n",
    "plt.box(True)\n",
    "plt.grid(True)\n",
    "plt.axhline(0.5, 0, 1, linewidth=2, color=[0.7, 0.7, 0.7])\n",
    "for f in np.arange(0.1, 1, 0.1):\n",
    "    r = np.arange(f, 1.01, 0.01)\n",
    "    p = f * r / (2 * r - f)\n",
    "    plt.plot(r, p, color=[0, 1, 0])\n",
    "    plt.plot(p, r, color=[0, 1, 0])\n",
    "    \n",
    "# human performance on the bsds500\n",
    "h = plt.plot(\n",
    "    0.7235,\n",
    "    0.9014,\n",
    "    marker=\"o\",\n",
    "    markersize=8,\n",
    "    color=[0, 0.5, 0],\n",
    "    markerfacecolor=[0, 0.5, 0],\n",
    "    markeredgecolor=[0, 0.5, 0],\n",
    ")\n",
    "\n",
    "plt.xticks(np.linspace(0, 1, 11))\n",
    "plt.yticks(np.linspace(0, 1, 11))\n",
    "plt.xlabel(\"Recall\")\n",
    "plt.ylabel(\"Precision\")\n",
    "ax.set_aspect(\"equal\", adjustable=\"box\")\n",
    "plt.axis([0, 1, 0, 1])\n",
    "\n",
    "# load results for every algorithm (pr=[T, R, P, F])\n",
    "pr = thrsh_data[thrsh_data[:, 1] >= 1e-3]\n",
    "_, o = np.unique(pr[:, 2], return_index=True)\n",
    "r50 = interp1d(\n",
    "    pr[o, 2],\n",
    "    pr[o, 1],\n",
    "    bounds_error=False,\n",
    "    fill_value=np.nan,\n",
    ")(np.maximum(pr[o[0], 2], 0.5))\n",
    "res = np.zeros((9), np.float32)\n",
    "res[:8] = overall_data\n",
    "res[8] = r50\n",
    "\n",
    "# plot results for every algorithm (plot best last)\n",
    "hs = plt.plot(\n",
    "    pr[:, 1],\n",
    "    pr[:, 2],\n",
    "    linestyle=\"-\",\n",
    "    linewidth=3,\n",
    "    color=cols[0],\n",
    ")\n",
    "prefix = \"ODS={:.3f}, OIS={:.3f}, AP={:.3f}, R50={:.3f}\".format(\n",
    "    *res[[3, 6, 7, 8]]\n",
    ")\n",
    "print(prefix)\n",
    "\n",
    "# hs = h + hs\n",
    "\n",
    "plt.show()"
   ]
  },
  {
   "cell_type": "code",
   "execution_count": null,
   "id": "1d2d054b-ee75-41f2-bc7a-3b50f6455129",
   "metadata": {},
   "outputs": [],
   "source": []
  }
 ],
 "metadata": {
  "kernelspec": {
   "display_name": "Python 3 (ipykernel)",
   "language": "python",
   "name": "python3"
  },
  "language_info": {
   "codemirror_mode": {
    "name": "ipython",
    "version": 3
   },
   "file_extension": ".py",
   "mimetype": "text/x-python",
   "name": "python",
   "nbconvert_exporter": "python",
   "pygments_lexer": "ipython3",
   "version": "3.8.8"
  }
 },
 "nbformat": 4,
 "nbformat_minor": 5
}
